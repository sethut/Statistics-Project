{
 "cells": [
  {
   "cell_type": "code",
   "execution_count": 4,
   "metadata": {
    "scrolled": true
   },
   "outputs": [],
   "source": [
    "###################연도별로 정리 버전################\n",
    "### 월 추 ###\n",
    "import pandas as pd\n",
    "import numpy as np\n",
    "from matplotlib import rc\n",
    "import matplotlib.pyplot as plt\n",
    "import matplotlib.font_manager as fm\n",
    "\n",
    "monthly = pd.read_csv(\"wolse.csv\", encoding=\"utf-8\")\n",
    "year=[\"2015년\", \"2016년\" , \"2017년\", \"2018년\" , \"2019년\"]\n",
    "\n",
    "date=list(monthly)\n",
    "date_list=date[0:]\n",
    "year_list=[] \n",
    "\n",
    "for i in range(len(year)) :\n",
    "    year_list.append([dec for dec in date_list if year[i] in dec])\n",
    "\n",
    "region_list=monthly['지 역'].values\n",
    "monthly_money=[]\n",
    "for i in range(0,len(region_list)):\n",
    "    monthly_money.append(monthly.iloc[i].values[0:])\n",
    "\n",
    "### DataFrame 생성 ###\n",
    "monthly_df = pd.DataFrame(columns = date_list)\n",
    "\n",
    "for i in range(0,len(region_list)):\n",
    "     monthly_df.loc[i] = monthly_money[i]\n",
    "\n",
    "monthly_mean=[]\n",
    "\n",
    "#### 연도별 평균 ###\n",
    "for i in range(len(year_list)) :\n",
    "     monthly_mean.append(monthly_df[year_list[i]].mean(axis=1))\n",
    "\n",
    "     \n",
    "\n",
    "### DataFrame 생성 ###\n",
    "monthly_2_df = pd.DataFrame(columns = year)\n",
    "for i in range(len(year)):\n",
    "    monthly_2_df[year[i]] = monthly_mean[i]\n",
    "\n",
    "### MatePlot 생성 ###\n",
    "# plt.figure(figsize=(7,7))\n",
    "# plt.plot(year,monthly_mean,label=region_list)\n",
    "# plt.legend(region_list,loc = 'upper left',ncol=4,bbox_to_anchor=(1, 1))\n",
    "# rc('font', family='AppleGothic')\n",
    "# plt.rcParams['axes.unicode_minus'] = False\n",
    "# plt.show()"
   ]
  },
  {
   "cell_type": "code",
   "execution_count": 5,
   "metadata": {},
   "outputs": [
    {
     "name": "stdout",
     "output_type": "stream",
     "text": [
      "+---+-----------------+-----------------+-----------------+------------------+------------------+\n",
      "|_c0|           2015년|           2016년|           2017년|            2018년|            2019년|\n",
      "+---+-----------------+-----------------+-----------------+------------------+------------------+\n",
      "|  0|758.8333333333334|759.3958333333334|778.5416666666666| 946.8333333333334|            961.35|\n",
      "|  1|912.3888888833334|909.1666666583333|916.2222222250001|1029.5833331666668|1048.3333334000001|\n",
      "|  2|         621.5625|618.3645833333334|        627.46875|           713.125|          716.2875|\n",
      "|  3|539.6666666666666|543.6666666666666|           552.75|             606.0|             621.6|\n",
      "|  4|           466.25|465.7916666666667|470.4791666666667|             501.0|           503.775|\n",
      "|  5|654.8333333333334|            656.0|658.8333333333334| 678.3333333333334|             688.2|\n",
      "|  6|481.1666666666667|           482.25|489.4166666666667|             554.0|             560.7|\n",
      "|  7|544.1666666666666|543.6666666666666|            548.5| 601.9166666666666|             611.0|\n",
      "|  8|            549.5|547.3333333333334|545.8333333333334|            563.25|             528.6|\n",
      "|  9|408.3333333333333|419.8333333333333|435.0833333333333|            592.25|             613.5|\n",
      "| 10|418.3333333333333|413.6666666666667|           418.75| 497.5833333333333|             491.9|\n",
      "| 11|           376.75|382.0833333333333|394.4166666666667| 437.5416666666667|            441.65|\n",
      "| 12|385.0833333333333|382.4166666666667|           380.75| 381.5416666666667|            390.55|\n",
      "| 13|290.4166666666667|291.4583333333333|302.8333333333333| 361.5416666666667|             372.7|\n",
      "+---+-----------------+-----------------+-----------------+------------------+------------------+\n",
      "\n"
     ]
    }
   ],
   "source": [
    "monthly_2_df.to_csv(\"wolse_pandas.csv\", mode='w')\n",
    "wolse_spark=spark.read.csv('wolse_pandas.csv',header=True,inferSchema=True)\n",
    "wolse_spark.show()"
   ]
  },
  {
   "cell_type": "code",
   "execution_count": null,
   "metadata": {},
   "outputs": [],
   "source": []
  }
 ],
 "metadata": {
  "kernelspec": {
   "display_name": "Python 3",
   "language": "python",
   "name": "python3"
  },
  "language_info": {
   "codemirror_mode": {
    "name": "ipython",
    "version": 3
   },
   "file_extension": ".py",
   "mimetype": "text/x-python",
   "name": "python",
   "nbconvert_exporter": "python",
   "pygments_lexer": "ipython3",
   "version": "3.7.5"
  }
 },
 "nbformat": 4,
 "nbformat_minor": 2
}
