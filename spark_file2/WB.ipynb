{
 "cells": [
  {
   "cell_type": "code",
   "execution_count": 2,
   "metadata": {},
   "outputs": [],
   "source": [
    "###################연도별로 정리 버전################\n",
    "### 월 추 ### \n",
    "import pandas as pd\n",
    "import numpy as np\n",
    "from matplotlib import rc\n",
    "import matplotlib.pyplot as plt \n",
    "import matplotlib.font_manager as fm\n",
    "\n",
    "guarentee = pd.read_csv(\"bojeungum.csv\", encoding=\"utf-8\")\n",
    "year=[\"2015년\", \"2016년\" , \"2017년\", \"2018년\" , \"2019년\"]\n",
    "\n",
    "date=list(guarentee)\n",
    "date_list=date[0:]\n",
    "year_list=[] \n",
    "\n",
    "for i in range(len(year)) :\n",
    "    year_list.append([dec for dec in date_list if year[i] in dec])\n",
    "\n",
    "\n",
    "region_list=guarentee['지 역'].values\n",
    "guarentee_money=[]\n",
    "for i in range(0,len(region_list)):\n",
    "    guarentee_money.append(guarentee.iloc[i].values[0:])\n",
    "\n",
    "### DataFrame 생성 ### \n",
    "guarentee_df = pd.DataFrame(columns = date_list)\n",
    "\n",
    "for i in range(0,len(region_list)):\n",
    "     guarentee_df.loc[i] = guarentee_money[i]\n",
    "\n",
    "guarentee_mean=[]\n",
    "\n",
    "#### 연도별 평균 ### \n",
    "for i in range(len(year_list)) :\n",
    "     guarentee_mean.append(guarentee_df[year_list[i]].mean(axis=1))\n",
    " \n",
    "### DataFrame 생성 ### \n",
    "guarentee_2_df = pd.DataFrame(columns = year)\n",
    "for i in range(len(year)):\n",
    "    guarentee_2_df[year[i]] = guarentee_mean[i]\n",
    "\n",
    "### MatePlot 생성 ### \n",
    "# plt.figure(figsize=(7,7))\n",
    "# plt.plot(year,guarentee_mean,label=region_list)\n",
    "# plt.legend(region_list,loc = 'upper left',ncol=4,bbox_to_anchor=(1, 1)) \n",
    "# rc('font', family='AppleGothic')\n",
    "# plt.rcParams['axes.unicode_minus'] = False\n",
    "# plt.show()"
   ]
  },
  {
   "cell_type": "code",
   "execution_count": 4,
   "metadata": {},
   "outputs": [
    {
     "name": "stdout",
     "output_type": "stream",
     "text": [
      "+---+------------------+------------------+------------------+------------------+------------------+\n",
      "|_c0|            2015년|            2016년|            2017년|            2018년|            2019년|\n",
      "+---+------------------+------------------+------------------+------------------+------------------+\n",
      "|  0|         83010.125| 83719.54166666667|         83277.125| 78280.97916666667|          77161.25|\n",
      "|  1|128252.83333333333|          130425.5|129837.91665833334|123237.13888333332|121026.49998000001|\n",
      "|  2|45920.229166666664|47550.895833333336|48320.114583333336|40572.572916666664|           40291.3|\n",
      "|  3|23942.833333333332|23391.333333333332|          23402.25|22364.083333333332|           21431.3|\n",
      "|  4|         38259.375|38746.145833333336|39192.354166666664|        40915.6875|         37857.725|\n",
      "|  5|23030.333333333332|          22963.75|22695.833333333332|          17229.75|           18041.6|\n",
      "|  6|36991.833333333336|           36798.0|           36578.5|35754.083333333336|           36903.0|\n",
      "|  7|           36160.0|36554.083333333336|           36456.0|           32196.5|           32128.1|\n",
      "|  8|41847.166666666664|           42017.0|41742.166666666664|35641.416666666664|           32085.4|\n",
      "|  9|12156.833333333334|13235.083333333334|           14066.5|14966.583333333334|           15496.5|\n",
      "| 10|13566.666666666666|           14294.5|14442.833333333334|          14701.25|           15069.1|\n",
      "| 11|           21866.0|         20910.375|18972.958333333332|15318.791666666666|           15163.9|\n",
      "| 12|28888.916666666668|29062.208333333332|28149.291666666668|22357.708333333332|           20512.4|\n",
      "| 13|22355.333333333332|           22446.0|21796.166666666668|         21128.875|          20796.15|\n",
      "+---+------------------+------------------+------------------+------------------+------------------+\n",
      "\n"
     ]
    }
   ],
   "source": [
    "guarentee_2_df.to_csv(\"wbojeungum_pandas.csv\", mode='w')\n",
    "guarentee_spark=spark.read.csv('wbojeungum_pandas.csv',header=True,inferSchema=True)\n",
    "guarentee_spark.show()"
   ]
  },
  {
   "cell_type": "code",
   "execution_count": null,
   "metadata": {},
   "outputs": [],
   "source": []
  }
 ],
 "metadata": {
  "kernelspec": {
   "display_name": "Python 3",
   "language": "python",
   "name": "python3"
  },
  "language_info": {
   "codemirror_mode": {
    "name": "ipython",
    "version": 3
   },
   "file_extension": ".py",
   "mimetype": "text/x-python",
   "name": "python",
   "nbconvert_exporter": "python",
   "pygments_lexer": "ipython3",
   "version": "3.5.2"
  }
 },
 "nbformat": 4,
 "nbformat_minor": 2
}
