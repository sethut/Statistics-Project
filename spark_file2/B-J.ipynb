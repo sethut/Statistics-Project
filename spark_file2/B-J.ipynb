{
 "cells": [
  {
   "cell_type": "code",
   "execution_count": 8,
   "metadata": {},
   "outputs": [],
   "source": [
    "###################연도별로 정리 버전################\n",
    "### 매 전 추 ### \n",
    "import pandas as pd\n",
    "import numpy as np\n",
    "from matplotlib import rc\n",
    "import matplotlib.pyplot as plt \n",
    "import matplotlib.font_manager as fm\n",
    "\n",
    "ratio = pd.read_csv(\"bojeungum-jeonse.csv\", encoding=\"utf-8\")\n",
    "year=[\"2015년\", \"2016년\" , \"2017년\", \"2018년\" , \"2019년\"]\n",
    "\n",
    "date=list(ratio)\n",
    "date_list=date[0:]\n",
    "year_list=[] \n",
    "\n",
    "for i in range(len(year)) :\n",
    "    year_list.append([dec for dec in date_list if year[i] in dec])\n",
    "\n",
    "\n",
    "region_list=ratio['지 역'].values\n",
    "ratio_money=[]\n",
    "for i in range(0,len(region_list)):\n",
    "    ratio_money.append(ratio.iloc[i].values[0:])\n",
    "\n",
    "### DataFrame 생성 ### \n",
    "ratio_df = pd.DataFrame(columns = date_list)\n",
    "\n",
    "for i in range(0,len(region_list)):\n",
    "     ratio_df.loc[i] = ratio_money[i]\n",
    "\n",
    "ratio_mean=[]\n",
    "\n",
    "#### 연도별 평균 ### \n",
    "for i in range(len(year_list)) :\n",
    "     ratio_mean.append(ratio_df[year_list[i]].mean(axis=1))\n",
    " \n",
    "### DataFrame 생성 ### \n",
    "ratio_2_df = pd.DataFrame(columns = year)\n",
    "for i in range(len(year)):\n",
    "    ratio_2_df[year[i]] = ratio_mean[i]\n",
    "    \n",
    "\n",
    "### plot 생성 ### \n",
    "\n",
    "# remainder_ratio=100-ratio_mean[4]\n",
    "# plt.figure(figsize=(20,20))\n",
    "# #rc('font', family='AppleGothic')\n",
    "# plt.rcParams['axes.unicode_minus'] = False\n",
    "# plt.bar(region_list, ratio_mean[4], width=0.5,color='b')\n",
    "# plt.bar(region_list, remainder_ratio, width=0.5, bottom=ratio_mean[4],color='r')\n",
    "\n",
    "# plt.show()\n"
   ]
  },
  {
   "cell_type": "code",
   "execution_count": 9,
   "metadata": {},
   "outputs": [
    {
     "name": "stdout",
     "output_type": "stream",
     "text": [
      "+---+------------------+------------------+------------------+------------------+------------------+\n",
      "|_c0|            2015년|            2016년|            2017년|            2018년|            2019년|\n",
      "+---+------------------+------------------+------------------+------------------+------------------+\n",
      "|  0|           31.7625|           31.1125|29.968750000000004|25.133333333333336|23.927500000000002|\n",
      "|  1|      34.883333335|34.580555555833335| 33.26666666666667| 27.76388889083334|             26.45|\n",
      "|  2| 24.00208333333333| 23.87395833333333|         23.403125|         19.346875|19.161250000000003|\n",
      "|  3|              18.1|17.424999999999997|             16.95|14.808333333333337|13.870000000000001|\n",
      "|  4|28.933333333333337|28.502083333333335| 27.63541666666667|          24.85625|23.669999999999998|\n",
      "|  5|15.200000000000001|15.066666666666668|14.566666666666668| 10.58333333333333|10.410000000000002|\n",
      "|  6|26.233333333333334|25.783333333333335|24.941666666666666|21.091666666666665|20.699999999999996|\n",
      "|  7| 23.96666666666667|23.566666666666663|22.849999999999998|19.691666666666663|19.000000000000004|\n",
      "|  8|27.650000000000002|27.191666666666663|26.391666666666666|21.033333333333335|             20.44|\n",
      "|  9|13.433333333333335|13.274999999999999|13.116666666666665|11.675000000000002|10.970000000000002|\n",
      "| 10|16.033333333333335|16.458333333333332|              16.2|14.350000000000001|14.029999999999998|\n",
      "| 11|24.941666666666666| 23.63333333333333|21.495833333333337|             16.35|15.814999999999998|\n",
      "| 12| 26.88333333333333|26.775000000000002|25.908333333333335| 20.92916666666667|             19.54|\n",
      "| 13| 27.09166666666667|              26.8|              25.2|21.991666666666664|20.714999999999996|\n",
      "+---+------------------+------------------+------------------+------------------+------------------+\n",
      "\n"
     ]
    }
   ],
   "source": [
    "ratio_2_df.to_csv(\"ratio_pandas.csv\", mode='w')\n",
    "ratio_spark=spark.read.csv('ratio_pandas.csv',header=True,inferSchema=True)\n",
    "ratio_spark.show()"
   ]
  },
  {
   "cell_type": "code",
   "execution_count": null,
   "metadata": {},
   "outputs": [],
   "source": []
  }
 ],
 "metadata": {
  "kernelspec": {
   "display_name": "Python 3",
   "language": "python",
   "name": "python3"
  },
  "language_info": {
   "codemirror_mode": {
    "name": "ipython",
    "version": 3
   },
   "file_extension": ".py",
   "mimetype": "text/x-python",
   "name": "python",
   "nbconvert_exporter": "python",
   "pygments_lexer": "ipython3",
   "version": "3.5.2"
  }
 },
 "nbformat": 4,
 "nbformat_minor": 2
}
